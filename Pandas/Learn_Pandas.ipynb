{
 "cells": [
  {
   "cell_type": "code",
   "execution_count": 1,
   "id": "45564111-3704-4098-b738-104f751bf59a",
   "metadata": {},
   "outputs": [],
   "source": [
    "import numpy as np\n",
    "import pandas as pd"
   ]
  },
  {
   "cell_type": "code",
   "execution_count": 3,
   "id": "2c131ef5-f981-45bb-bc26-f9b265dcdce8",
   "metadata": {},
   "outputs": [],
   "source": [
    "dict1 = {\n",
    "    \"name\":['pooja', 'priya', 'poonam', 'nayan'],\n",
    "    \"age\":[22,19,17,13],\n",
    "    \"city\":['vikhroli','mulund','ulhasnagar','thane']\n",
    "}"
   ]
  },
  {
   "cell_type": "code",
   "execution_count": 5,
   "id": "cc3e6d54-b382-4ea0-88d6-a2a699d7228d",
   "metadata": {},
   "outputs": [],
   "source": [
    "df = pd.DataFrame(dict1)"
   ]
  },
  {
   "cell_type": "code",
   "execution_count": 6,
   "id": "3776ea6e-5fc2-4b41-8c15-9a0c49a81760",
   "metadata": {},
   "outputs": [
    {
     "data": {
      "text/html": [
       "<div>\n",
       "<style scoped>\n",
       "    .dataframe tbody tr th:only-of-type {\n",
       "        vertical-align: middle;\n",
       "    }\n",
       "\n",
       "    .dataframe tbody tr th {\n",
       "        vertical-align: top;\n",
       "    }\n",
       "\n",
       "    .dataframe thead th {\n",
       "        text-align: right;\n",
       "    }\n",
       "</style>\n",
       "<table border=\"1\" class=\"dataframe\">\n",
       "  <thead>\n",
       "    <tr style=\"text-align: right;\">\n",
       "      <th></th>\n",
       "      <th>name</th>\n",
       "      <th>age</th>\n",
       "      <th>city</th>\n",
       "    </tr>\n",
       "  </thead>\n",
       "  <tbody>\n",
       "    <tr>\n",
       "      <th>0</th>\n",
       "      <td>pooja</td>\n",
       "      <td>22</td>\n",
       "      <td>vikhroli</td>\n",
       "    </tr>\n",
       "    <tr>\n",
       "      <th>1</th>\n",
       "      <td>priya</td>\n",
       "      <td>19</td>\n",
       "      <td>mulund</td>\n",
       "    </tr>\n",
       "    <tr>\n",
       "      <th>2</th>\n",
       "      <td>poonam</td>\n",
       "      <td>17</td>\n",
       "      <td>ulhasnagar</td>\n",
       "    </tr>\n",
       "    <tr>\n",
       "      <th>3</th>\n",
       "      <td>nayan</td>\n",
       "      <td>13</td>\n",
       "      <td>thane</td>\n",
       "    </tr>\n",
       "  </tbody>\n",
       "</table>\n",
       "</div>"
      ],
      "text/plain": [
       "     name  age        city\n",
       "0   pooja   22    vikhroli\n",
       "1   priya   19      mulund\n",
       "2  poonam   17  ulhasnagar\n",
       "3   nayan   13       thane"
      ]
     },
     "execution_count": 6,
     "metadata": {},
     "output_type": "execute_result"
    }
   ],
   "source": [
    "df"
   ]
  },
  {
   "cell_type": "code",
   "execution_count": 7,
   "id": "6013b43d-de06-449a-bb44-113a4dd4b5c5",
   "metadata": {},
   "outputs": [],
   "source": [
    "df.to_csv('friends.csv')"
   ]
  },
  {
   "cell_type": "code",
   "execution_count": 8,
   "id": "8c5181a4-f1ac-4d50-81f5-4028d258c2b4",
   "metadata": {},
   "outputs": [],
   "source": [
    "df.to_csv('friends_no_index.csv', index = False)"
   ]
  },
  {
   "cell_type": "code",
   "execution_count": 9,
   "id": "fbe4f267-5f75-4c1a-a338-c1c6e6fa6279",
   "metadata": {},
   "outputs": [
    {
     "data": {
      "text/html": [
       "<div>\n",
       "<style scoped>\n",
       "    .dataframe tbody tr th:only-of-type {\n",
       "        vertical-align: middle;\n",
       "    }\n",
       "\n",
       "    .dataframe tbody tr th {\n",
       "        vertical-align: top;\n",
       "    }\n",
       "\n",
       "    .dataframe thead th {\n",
       "        text-align: right;\n",
       "    }\n",
       "</style>\n",
       "<table border=\"1\" class=\"dataframe\">\n",
       "  <thead>\n",
       "    <tr style=\"text-align: right;\">\n",
       "      <th></th>\n",
       "      <th>name</th>\n",
       "      <th>age</th>\n",
       "      <th>city</th>\n",
       "    </tr>\n",
       "  </thead>\n",
       "  <tbody>\n",
       "    <tr>\n",
       "      <th>0</th>\n",
       "      <td>pooja</td>\n",
       "      <td>22</td>\n",
       "      <td>vikhroli</td>\n",
       "    </tr>\n",
       "    <tr>\n",
       "      <th>1</th>\n",
       "      <td>priya</td>\n",
       "      <td>19</td>\n",
       "      <td>mulund</td>\n",
       "    </tr>\n",
       "  </tbody>\n",
       "</table>\n",
       "</div>"
      ],
      "text/plain": [
       "    name  age      city\n",
       "0  pooja   22  vikhroli\n",
       "1  priya   19    mulund"
      ]
     },
     "execution_count": 9,
     "metadata": {},
     "output_type": "execute_result"
    }
   ],
   "source": [
    "df.head(2)"
   ]
  },
  {
   "cell_type": "code",
   "execution_count": 10,
   "id": "7b805f0d-6ef9-4605-90c5-0936b49858ff",
   "metadata": {},
   "outputs": [
    {
     "data": {
      "text/html": [
       "<div>\n",
       "<style scoped>\n",
       "    .dataframe tbody tr th:only-of-type {\n",
       "        vertical-align: middle;\n",
       "    }\n",
       "\n",
       "    .dataframe tbody tr th {\n",
       "        vertical-align: top;\n",
       "    }\n",
       "\n",
       "    .dataframe thead th {\n",
       "        text-align: right;\n",
       "    }\n",
       "</style>\n",
       "<table border=\"1\" class=\"dataframe\">\n",
       "  <thead>\n",
       "    <tr style=\"text-align: right;\">\n",
       "      <th></th>\n",
       "      <th>name</th>\n",
       "      <th>age</th>\n",
       "      <th>city</th>\n",
       "    </tr>\n",
       "  </thead>\n",
       "  <tbody>\n",
       "    <tr>\n",
       "      <th>2</th>\n",
       "      <td>poonam</td>\n",
       "      <td>17</td>\n",
       "      <td>ulhasnagar</td>\n",
       "    </tr>\n",
       "    <tr>\n",
       "      <th>3</th>\n",
       "      <td>nayan</td>\n",
       "      <td>13</td>\n",
       "      <td>thane</td>\n",
       "    </tr>\n",
       "  </tbody>\n",
       "</table>\n",
       "</div>"
      ],
      "text/plain": [
       "     name  age        city\n",
       "2  poonam   17  ulhasnagar\n",
       "3   nayan   13       thane"
      ]
     },
     "execution_count": 10,
     "metadata": {},
     "output_type": "execute_result"
    }
   ],
   "source": [
    "df.tail(2)"
   ]
  },
  {
   "cell_type": "code",
   "execution_count": 12,
   "id": "7858ee0a-30e2-4bf5-91ef-11c1ee8a60fe",
   "metadata": {},
   "outputs": [
    {
     "data": {
      "text/html": [
       "<div>\n",
       "<style scoped>\n",
       "    .dataframe tbody tr th:only-of-type {\n",
       "        vertical-align: middle;\n",
       "    }\n",
       "\n",
       "    .dataframe tbody tr th {\n",
       "        vertical-align: top;\n",
       "    }\n",
       "\n",
       "    .dataframe thead th {\n",
       "        text-align: right;\n",
       "    }\n",
       "</style>\n",
       "<table border=\"1\" class=\"dataframe\">\n",
       "  <thead>\n",
       "    <tr style=\"text-align: right;\">\n",
       "      <th></th>\n",
       "      <th>age</th>\n",
       "    </tr>\n",
       "  </thead>\n",
       "  <tbody>\n",
       "    <tr>\n",
       "      <th>count</th>\n",
       "      <td>4.000000</td>\n",
       "    </tr>\n",
       "    <tr>\n",
       "      <th>mean</th>\n",
       "      <td>17.750000</td>\n",
       "    </tr>\n",
       "    <tr>\n",
       "      <th>std</th>\n",
       "      <td>3.774917</td>\n",
       "    </tr>\n",
       "    <tr>\n",
       "      <th>min</th>\n",
       "      <td>13.000000</td>\n",
       "    </tr>\n",
       "    <tr>\n",
       "      <th>25%</th>\n",
       "      <td>16.000000</td>\n",
       "    </tr>\n",
       "    <tr>\n",
       "      <th>50%</th>\n",
       "      <td>18.000000</td>\n",
       "    </tr>\n",
       "    <tr>\n",
       "      <th>75%</th>\n",
       "      <td>19.750000</td>\n",
       "    </tr>\n",
       "    <tr>\n",
       "      <th>max</th>\n",
       "      <td>22.000000</td>\n",
       "    </tr>\n",
       "  </tbody>\n",
       "</table>\n",
       "</div>"
      ],
      "text/plain": [
       "             age\n",
       "count   4.000000\n",
       "mean   17.750000\n",
       "std     3.774917\n",
       "min    13.000000\n",
       "25%    16.000000\n",
       "50%    18.000000\n",
       "75%    19.750000\n",
       "max    22.000000"
      ]
     },
     "execution_count": 12,
     "metadata": {},
     "output_type": "execute_result"
    }
   ],
   "source": [
    "df.describe()"
   ]
  },
  {
   "cell_type": "code",
   "execution_count": 13,
   "id": "e7301312-4312-4c32-a9de-dc92669fa927",
   "metadata": {},
   "outputs": [],
   "source": [
    "friends = pd.read_csv('friends_no_index.csv')"
   ]
  },
  {
   "cell_type": "code",
   "execution_count": 14,
   "id": "c5344a9e-38b9-4db0-8a09-71b59d90dd56",
   "metadata": {},
   "outputs": [
    {
     "data": {
      "text/html": [
       "<div>\n",
       "<style scoped>\n",
       "    .dataframe tbody tr th:only-of-type {\n",
       "        vertical-align: middle;\n",
       "    }\n",
       "\n",
       "    .dataframe tbody tr th {\n",
       "        vertical-align: top;\n",
       "    }\n",
       "\n",
       "    .dataframe thead th {\n",
       "        text-align: right;\n",
       "    }\n",
       "</style>\n",
       "<table border=\"1\" class=\"dataframe\">\n",
       "  <thead>\n",
       "    <tr style=\"text-align: right;\">\n",
       "      <th></th>\n",
       "      <th>name</th>\n",
       "      <th>age</th>\n",
       "      <th>city</th>\n",
       "    </tr>\n",
       "  </thead>\n",
       "  <tbody>\n",
       "    <tr>\n",
       "      <th>0</th>\n",
       "      <td>pooja</td>\n",
       "      <td>22</td>\n",
       "      <td>vikhroli</td>\n",
       "    </tr>\n",
       "    <tr>\n",
       "      <th>1</th>\n",
       "      <td>priya</td>\n",
       "      <td>19</td>\n",
       "      <td>mulund</td>\n",
       "    </tr>\n",
       "    <tr>\n",
       "      <th>2</th>\n",
       "      <td>poonam</td>\n",
       "      <td>17</td>\n",
       "      <td>ulhasnagar</td>\n",
       "    </tr>\n",
       "    <tr>\n",
       "      <th>3</th>\n",
       "      <td>nayan</td>\n",
       "      <td>13</td>\n",
       "      <td>thane</td>\n",
       "    </tr>\n",
       "  </tbody>\n",
       "</table>\n",
       "</div>"
      ],
      "text/plain": [
       "     name  age        city\n",
       "0   pooja   22    vikhroli\n",
       "1   priya   19      mulund\n",
       "2  poonam   17  ulhasnagar\n",
       "3   nayan   13       thane"
      ]
     },
     "execution_count": 14,
     "metadata": {},
     "output_type": "execute_result"
    }
   ],
   "source": [
    "friends"
   ]
  },
  {
   "cell_type": "code",
   "execution_count": 15,
   "id": "c332a929-e885-4d89-b14b-218e1cd64013",
   "metadata": {},
   "outputs": [
    {
     "data": {
      "text/plain": [
       "np.int64(22)"
      ]
     },
     "execution_count": 15,
     "metadata": {},
     "output_type": "execute_result"
    }
   ],
   "source": [
    "friends['age'][0]"
   ]
  },
  {
   "cell_type": "code",
   "execution_count": 16,
   "id": "cdac1def-7ebc-474e-af5f-d0fbc2fe07f1",
   "metadata": {},
   "outputs": [
    {
     "name": "stderr",
     "output_type": "stream",
     "text": [
      "C:\\Users\\Pooja Nayak\\AppData\\Local\\Temp\\ipykernel_4640\\3240121025.py:1: FutureWarning: ChainedAssignmentError: behaviour will change in pandas 3.0!\n",
      "You are setting values through chained assignment. Currently this works in certain cases, but when using Copy-on-Write (which will become the default behaviour in pandas 3.0) this will never work to update the original DataFrame or Series, because the intermediate object on which we are setting values will behave as a copy.\n",
      "A typical example is when you are setting values in a column of a DataFrame, like:\n",
      "\n",
      "df[\"col\"][row_indexer] = value\n",
      "\n",
      "Use `df.loc[row_indexer, \"col\"] = values` instead, to perform the assignment in a single step and ensure this keeps updating the original `df`.\n",
      "\n",
      "See the caveats in the documentation: https://pandas.pydata.org/pandas-docs/stable/user_guide/indexing.html#returning-a-view-versus-a-copy\n",
      "\n",
      "  friends['age'][0] = 21\n",
      "C:\\Users\\Pooja Nayak\\AppData\\Local\\Temp\\ipykernel_4640\\3240121025.py:1: SettingWithCopyWarning: \n",
      "A value is trying to be set on a copy of a slice from a DataFrame\n",
      "\n",
      "See the caveats in the documentation: https://pandas.pydata.org/pandas-docs/stable/user_guide/indexing.html#returning-a-view-versus-a-copy\n",
      "  friends['age'][0] = 21\n"
     ]
    }
   ],
   "source": [
    "friends['age'][0] = 21"
   ]
  },
  {
   "cell_type": "code",
   "execution_count": 17,
   "id": "b98d43f6-10ac-47e6-94a9-449292c49136",
   "metadata": {},
   "outputs": [
    {
     "data": {
      "text/html": [
       "<div>\n",
       "<style scoped>\n",
       "    .dataframe tbody tr th:only-of-type {\n",
       "        vertical-align: middle;\n",
       "    }\n",
       "\n",
       "    .dataframe tbody tr th {\n",
       "        vertical-align: top;\n",
       "    }\n",
       "\n",
       "    .dataframe thead th {\n",
       "        text-align: right;\n",
       "    }\n",
       "</style>\n",
       "<table border=\"1\" class=\"dataframe\">\n",
       "  <thead>\n",
       "    <tr style=\"text-align: right;\">\n",
       "      <th></th>\n",
       "      <th>name</th>\n",
       "      <th>age</th>\n",
       "      <th>city</th>\n",
       "    </tr>\n",
       "  </thead>\n",
       "  <tbody>\n",
       "    <tr>\n",
       "      <th>0</th>\n",
       "      <td>pooja</td>\n",
       "      <td>21</td>\n",
       "      <td>vikhroli</td>\n",
       "    </tr>\n",
       "    <tr>\n",
       "      <th>1</th>\n",
       "      <td>priya</td>\n",
       "      <td>19</td>\n",
       "      <td>mulund</td>\n",
       "    </tr>\n",
       "    <tr>\n",
       "      <th>2</th>\n",
       "      <td>poonam</td>\n",
       "      <td>17</td>\n",
       "      <td>ulhasnagar</td>\n",
       "    </tr>\n",
       "    <tr>\n",
       "      <th>3</th>\n",
       "      <td>nayan</td>\n",
       "      <td>13</td>\n",
       "      <td>thane</td>\n",
       "    </tr>\n",
       "  </tbody>\n",
       "</table>\n",
       "</div>"
      ],
      "text/plain": [
       "     name  age        city\n",
       "0   pooja   21    vikhroli\n",
       "1   priya   19      mulund\n",
       "2  poonam   17  ulhasnagar\n",
       "3   nayan   13       thane"
      ]
     },
     "execution_count": 17,
     "metadata": {},
     "output_type": "execute_result"
    }
   ],
   "source": [
    "friends"
   ]
  },
  {
   "cell_type": "code",
   "execution_count": 18,
   "id": "72145a12-cebb-4d49-83a7-f35d8bdabf17",
   "metadata": {},
   "outputs": [],
   "source": [
    "friends.index = ['first', 'second', 'third', 'fourth']"
   ]
  },
  {
   "cell_type": "code",
   "execution_count": 19,
   "id": "253ea218-b848-4f0b-9f7b-5b60a3cf2da0",
   "metadata": {},
   "outputs": [
    {
     "data": {
      "text/html": [
       "<div>\n",
       "<style scoped>\n",
       "    .dataframe tbody tr th:only-of-type {\n",
       "        vertical-align: middle;\n",
       "    }\n",
       "\n",
       "    .dataframe tbody tr th {\n",
       "        vertical-align: top;\n",
       "    }\n",
       "\n",
       "    .dataframe thead th {\n",
       "        text-align: right;\n",
       "    }\n",
       "</style>\n",
       "<table border=\"1\" class=\"dataframe\">\n",
       "  <thead>\n",
       "    <tr style=\"text-align: right;\">\n",
       "      <th></th>\n",
       "      <th>name</th>\n",
       "      <th>age</th>\n",
       "      <th>city</th>\n",
       "    </tr>\n",
       "  </thead>\n",
       "  <tbody>\n",
       "    <tr>\n",
       "      <th>first</th>\n",
       "      <td>pooja</td>\n",
       "      <td>21</td>\n",
       "      <td>vikhroli</td>\n",
       "    </tr>\n",
       "    <tr>\n",
       "      <th>second</th>\n",
       "      <td>priya</td>\n",
       "      <td>19</td>\n",
       "      <td>mulund</td>\n",
       "    </tr>\n",
       "    <tr>\n",
       "      <th>third</th>\n",
       "      <td>poonam</td>\n",
       "      <td>17</td>\n",
       "      <td>ulhasnagar</td>\n",
       "    </tr>\n",
       "    <tr>\n",
       "      <th>fourth</th>\n",
       "      <td>nayan</td>\n",
       "      <td>13</td>\n",
       "      <td>thane</td>\n",
       "    </tr>\n",
       "  </tbody>\n",
       "</table>\n",
       "</div>"
      ],
      "text/plain": [
       "          name  age        city\n",
       "first    pooja   21    vikhroli\n",
       "second   priya   19      mulund\n",
       "third   poonam   17  ulhasnagar\n",
       "fourth   nayan   13       thane"
      ]
     },
     "execution_count": 19,
     "metadata": {},
     "output_type": "execute_result"
    }
   ],
   "source": [
    "friends"
   ]
  },
  {
   "cell_type": "code",
   "execution_count": 22,
   "id": "ca8726f1-eeaf-4659-9da8-819406ef1e37",
   "metadata": {},
   "outputs": [],
   "source": [
    "ser = pd.Series(np.random.rand(5))"
   ]
  },
  {
   "cell_type": "code",
   "execution_count": 23,
   "id": "189ef221-e49f-410b-bfb0-f8dc57e65f9a",
   "metadata": {},
   "outputs": [
    {
     "data": {
      "text/plain": [
       "0    0.577722\n",
       "1    0.856971\n",
       "2    0.207284\n",
       "3    0.497094\n",
       "4    0.677986\n",
       "dtype: float64"
      ]
     },
     "execution_count": 23,
     "metadata": {},
     "output_type": "execute_result"
    }
   ],
   "source": [
    "ser"
   ]
  },
  {
   "cell_type": "code",
   "execution_count": 24,
   "id": "b0657f2c-bb61-4b77-ab29-abe53c5f1599",
   "metadata": {},
   "outputs": [
    {
     "data": {
      "text/plain": [
       "pandas.core.series.Series"
      ]
     },
     "execution_count": 24,
     "metadata": {},
     "output_type": "execute_result"
    }
   ],
   "source": [
    "type(ser)"
   ]
  },
  {
   "cell_type": "code",
   "execution_count": 31,
   "id": "fc9b6087-e7e5-472a-9ea2-9b14834b027b",
   "metadata": {},
   "outputs": [
    {
     "data": {
      "text/html": [
       "<div>\n",
       "<style scoped>\n",
       "    .dataframe tbody tr th:only-of-type {\n",
       "        vertical-align: middle;\n",
       "    }\n",
       "\n",
       "    .dataframe tbody tr th {\n",
       "        vertical-align: top;\n",
       "    }\n",
       "\n",
       "    .dataframe thead th {\n",
       "        text-align: right;\n",
       "    }\n",
       "</style>\n",
       "<table border=\"1\" class=\"dataframe\">\n",
       "  <thead>\n",
       "    <tr style=\"text-align: right;\">\n",
       "      <th></th>\n",
       "      <th>0</th>\n",
       "      <th>1</th>\n",
       "      <th>2</th>\n",
       "      <th>3</th>\n",
       "      <th>4</th>\n",
       "    </tr>\n",
       "  </thead>\n",
       "  <tbody>\n",
       "    <tr>\n",
       "      <th>0</th>\n",
       "      <td>0.045178</td>\n",
       "      <td>0.241953</td>\n",
       "      <td>0.403667</td>\n",
       "      <td>0.936204</td>\n",
       "      <td>0.485370</td>\n",
       "    </tr>\n",
       "    <tr>\n",
       "      <th>1</th>\n",
       "      <td>0.900845</td>\n",
       "      <td>0.600563</td>\n",
       "      <td>0.052121</td>\n",
       "      <td>0.684036</td>\n",
       "      <td>0.702272</td>\n",
       "    </tr>\n",
       "    <tr>\n",
       "      <th>2</th>\n",
       "      <td>0.561677</td>\n",
       "      <td>0.008396</td>\n",
       "      <td>0.482141</td>\n",
       "      <td>0.917929</td>\n",
       "      <td>0.913979</td>\n",
       "    </tr>\n",
       "    <tr>\n",
       "      <th>3</th>\n",
       "      <td>0.156596</td>\n",
       "      <td>0.117219</td>\n",
       "      <td>0.107884</td>\n",
       "      <td>0.917898</td>\n",
       "      <td>0.969533</td>\n",
       "    </tr>\n",
       "    <tr>\n",
       "      <th>4</th>\n",
       "      <td>0.885940</td>\n",
       "      <td>0.301492</td>\n",
       "      <td>0.285615</td>\n",
       "      <td>0.758537</td>\n",
       "      <td>0.650807</td>\n",
       "    </tr>\n",
       "  </tbody>\n",
       "</table>\n",
       "</div>"
      ],
      "text/plain": [
       "          0         1         2         3         4\n",
       "0  0.045178  0.241953  0.403667  0.936204  0.485370\n",
       "1  0.900845  0.600563  0.052121  0.684036  0.702272\n",
       "2  0.561677  0.008396  0.482141  0.917929  0.913979\n",
       "3  0.156596  0.117219  0.107884  0.917898  0.969533\n",
       "4  0.885940  0.301492  0.285615  0.758537  0.650807"
      ]
     },
     "execution_count": 31,
     "metadata": {},
     "output_type": "execute_result"
    }
   ],
   "source": [
    "newdf = pd.DataFrame(np.random.rand(334,5), index = np.arange(334))\n",
    "newdf.head()"
   ]
  },
  {
   "cell_type": "code",
   "execution_count": 28,
   "id": "65225a6d-9334-45f2-bdc1-70f9ab95296b",
   "metadata": {},
   "outputs": [
    {
     "data": {
      "text/plain": [
       "pandas.core.frame.DataFrame"
      ]
     },
     "execution_count": 28,
     "metadata": {},
     "output_type": "execute_result"
    }
   ],
   "source": [
    "type(newdf)"
   ]
  },
  {
   "cell_type": "code",
   "execution_count": 29,
   "id": "852c2b2f-8e11-4b67-b32c-8c6e2338fc33",
   "metadata": {},
   "outputs": [
    {
     "data": {
      "text/html": [
       "<div>\n",
       "<style scoped>\n",
       "    .dataframe tbody tr th:only-of-type {\n",
       "        vertical-align: middle;\n",
       "    }\n",
       "\n",
       "    .dataframe tbody tr th {\n",
       "        vertical-align: top;\n",
       "    }\n",
       "\n",
       "    .dataframe thead th {\n",
       "        text-align: right;\n",
       "    }\n",
       "</style>\n",
       "<table border=\"1\" class=\"dataframe\">\n",
       "  <thead>\n",
       "    <tr style=\"text-align: right;\">\n",
       "      <th></th>\n",
       "      <th>0</th>\n",
       "      <th>1</th>\n",
       "      <th>2</th>\n",
       "      <th>3</th>\n",
       "      <th>4</th>\n",
       "    </tr>\n",
       "  </thead>\n",
       "  <tbody>\n",
       "    <tr>\n",
       "      <th>count</th>\n",
       "      <td>334.000000</td>\n",
       "      <td>334.000000</td>\n",
       "      <td>334.000000</td>\n",
       "      <td>334.000000</td>\n",
       "      <td>334.000000</td>\n",
       "    </tr>\n",
       "    <tr>\n",
       "      <th>mean</th>\n",
       "      <td>0.493872</td>\n",
       "      <td>0.496398</td>\n",
       "      <td>0.545495</td>\n",
       "      <td>0.536132</td>\n",
       "      <td>0.509246</td>\n",
       "    </tr>\n",
       "    <tr>\n",
       "      <th>std</th>\n",
       "      <td>0.293056</td>\n",
       "      <td>0.282756</td>\n",
       "      <td>0.286300</td>\n",
       "      <td>0.286017</td>\n",
       "      <td>0.294386</td>\n",
       "    </tr>\n",
       "    <tr>\n",
       "      <th>min</th>\n",
       "      <td>0.004588</td>\n",
       "      <td>0.003548</td>\n",
       "      <td>0.009898</td>\n",
       "      <td>0.000305</td>\n",
       "      <td>0.000201</td>\n",
       "    </tr>\n",
       "    <tr>\n",
       "      <th>25%</th>\n",
       "      <td>0.215425</td>\n",
       "      <td>0.248958</td>\n",
       "      <td>0.324070</td>\n",
       "      <td>0.299258</td>\n",
       "      <td>0.245775</td>\n",
       "    </tr>\n",
       "    <tr>\n",
       "      <th>50%</th>\n",
       "      <td>0.480361</td>\n",
       "      <td>0.517893</td>\n",
       "      <td>0.558827</td>\n",
       "      <td>0.534452</td>\n",
       "      <td>0.542569</td>\n",
       "    </tr>\n",
       "    <tr>\n",
       "      <th>75%</th>\n",
       "      <td>0.765242</td>\n",
       "      <td>0.733901</td>\n",
       "      <td>0.797118</td>\n",
       "      <td>0.799557</td>\n",
       "      <td>0.745191</td>\n",
       "    </tr>\n",
       "    <tr>\n",
       "      <th>max</th>\n",
       "      <td>0.988120</td>\n",
       "      <td>0.992418</td>\n",
       "      <td>0.998202</td>\n",
       "      <td>0.996354</td>\n",
       "      <td>0.999674</td>\n",
       "    </tr>\n",
       "  </tbody>\n",
       "</table>\n",
       "</div>"
      ],
      "text/plain": [
       "                0           1           2           3           4\n",
       "count  334.000000  334.000000  334.000000  334.000000  334.000000\n",
       "mean     0.493872    0.496398    0.545495    0.536132    0.509246\n",
       "std      0.293056    0.282756    0.286300    0.286017    0.294386\n",
       "min      0.004588    0.003548    0.009898    0.000305    0.000201\n",
       "25%      0.215425    0.248958    0.324070    0.299258    0.245775\n",
       "50%      0.480361    0.517893    0.558827    0.534452    0.542569\n",
       "75%      0.765242    0.733901    0.797118    0.799557    0.745191\n",
       "max      0.988120    0.992418    0.998202    0.996354    0.999674"
      ]
     },
     "execution_count": 29,
     "metadata": {},
     "output_type": "execute_result"
    }
   ],
   "source": [
    "newdf.describe()"
   ]
  },
  {
   "cell_type": "code",
   "execution_count": 30,
   "id": "7e561edb-824b-4442-a04d-87b092884b9d",
   "metadata": {},
   "outputs": [
    {
     "data": {
      "text/plain": [
       "0    float64\n",
       "1    float64\n",
       "2    float64\n",
       "3    float64\n",
       "4    float64\n",
       "dtype: object"
      ]
     },
     "execution_count": 30,
     "metadata": {},
     "output_type": "execute_result"
    }
   ],
   "source": [
    "newdf.dtypes"
   ]
  },
  {
   "cell_type": "code",
   "execution_count": 33,
   "id": "bccc0e7f-470d-4c3b-8fc2-b5d7cb521530",
   "metadata": {},
   "outputs": [
    {
     "data": {
      "text/plain": [
       "0     object\n",
       "1    float64\n",
       "2    float64\n",
       "3    float64\n",
       "4    float64\n",
       "dtype: object"
      ]
     },
     "execution_count": 33,
     "metadata": {},
     "output_type": "execute_result"
    }
   ],
   "source": [
    "newdf[0][0] = \"pooja\"\n",
    "newdf.dtypes"
   ]
  },
  {
   "cell_type": "code",
   "execution_count": 34,
   "id": "6d0a5c5a-cae1-4073-8eb9-c8083eada613",
   "metadata": {},
   "outputs": [
    {
     "data": {
      "text/html": [
       "<div>\n",
       "<style scoped>\n",
       "    .dataframe tbody tr th:only-of-type {\n",
       "        vertical-align: middle;\n",
       "    }\n",
       "\n",
       "    .dataframe tbody tr th {\n",
       "        vertical-align: top;\n",
       "    }\n",
       "\n",
       "    .dataframe thead th {\n",
       "        text-align: right;\n",
       "    }\n",
       "</style>\n",
       "<table border=\"1\" class=\"dataframe\">\n",
       "  <thead>\n",
       "    <tr style=\"text-align: right;\">\n",
       "      <th></th>\n",
       "      <th>0</th>\n",
       "      <th>1</th>\n",
       "      <th>2</th>\n",
       "      <th>3</th>\n",
       "      <th>4</th>\n",
       "    </tr>\n",
       "  </thead>\n",
       "  <tbody>\n",
       "    <tr>\n",
       "      <th>0</th>\n",
       "      <td>pooja</td>\n",
       "      <td>0.241953</td>\n",
       "      <td>0.403667</td>\n",
       "      <td>0.936204</td>\n",
       "      <td>0.485370</td>\n",
       "    </tr>\n",
       "    <tr>\n",
       "      <th>1</th>\n",
       "      <td>0.900845</td>\n",
       "      <td>0.600563</td>\n",
       "      <td>0.052121</td>\n",
       "      <td>0.684036</td>\n",
       "      <td>0.702272</td>\n",
       "    </tr>\n",
       "    <tr>\n",
       "      <th>2</th>\n",
       "      <td>0.561677</td>\n",
       "      <td>0.008396</td>\n",
       "      <td>0.482141</td>\n",
       "      <td>0.917929</td>\n",
       "      <td>0.913979</td>\n",
       "    </tr>\n",
       "    <tr>\n",
       "      <th>3</th>\n",
       "      <td>0.156596</td>\n",
       "      <td>0.117219</td>\n",
       "      <td>0.107884</td>\n",
       "      <td>0.917898</td>\n",
       "      <td>0.969533</td>\n",
       "    </tr>\n",
       "    <tr>\n",
       "      <th>4</th>\n",
       "      <td>0.88594</td>\n",
       "      <td>0.301492</td>\n",
       "      <td>0.285615</td>\n",
       "      <td>0.758537</td>\n",
       "      <td>0.650807</td>\n",
       "    </tr>\n",
       "  </tbody>\n",
       "</table>\n",
       "</div>"
      ],
      "text/plain": [
       "          0         1         2         3         4\n",
       "0     pooja  0.241953  0.403667  0.936204  0.485370\n",
       "1  0.900845  0.600563  0.052121  0.684036  0.702272\n",
       "2  0.561677  0.008396  0.482141  0.917929  0.913979\n",
       "3  0.156596  0.117219  0.107884  0.917898  0.969533\n",
       "4   0.88594  0.301492  0.285615  0.758537  0.650807"
      ]
     },
     "execution_count": 34,
     "metadata": {},
     "output_type": "execute_result"
    }
   ],
   "source": [
    "newdf.head()"
   ]
  },
  {
   "cell_type": "code",
   "execution_count": 35,
   "id": "64a275ee-5d68-4b5a-a60e-a2c77104005f",
   "metadata": {},
   "outputs": [
    {
     "data": {
      "text/plain": [
       "Index([  0,   1,   2,   3,   4,   5,   6,   7,   8,   9,\n",
       "       ...\n",
       "       324, 325, 326, 327, 328, 329, 330, 331, 332, 333],\n",
       "      dtype='int64', length=334)"
      ]
     },
     "execution_count": 35,
     "metadata": {},
     "output_type": "execute_result"
    }
   ],
   "source": [
    "newdf.index"
   ]
  },
  {
   "cell_type": "code",
   "execution_count": 36,
   "id": "3639e208-4baa-4910-ace3-d0a866967bb1",
   "metadata": {},
   "outputs": [
    {
     "data": {
      "text/plain": [
       "RangeIndex(start=0, stop=5, step=1)"
      ]
     },
     "execution_count": 36,
     "metadata": {},
     "output_type": "execute_result"
    }
   ],
   "source": [
    "newdf.columns"
   ]
  },
  {
   "cell_type": "code",
   "execution_count": 37,
   "id": "7abf6235-a623-442d-a8de-0b8ff92f8185",
   "metadata": {},
   "outputs": [
    {
     "data": {
      "text/plain": [
       "array([['pooja', 0.24195270854415418, 0.403666990322726,\n",
       "        0.9362040905951435, 0.4853702748370098],\n",
       "       [0.9008454047399199, 0.6005633692384426, 0.052120771995272985,\n",
       "        0.6840361695617772, 0.7022724227977453],\n",
       "       [0.5616767502681913, 0.008395981481421622, 0.48214082165711636,\n",
       "        0.9179287785737561, 0.9139786646614546],\n",
       "       ...,\n",
       "       [0.9110102298926938, 0.4538244037522263, 0.4020700733724296,\n",
       "        0.26049550750596495, 0.46456520857869],\n",
       "       [0.5583024378928559, 0.698844583276529, 0.2243679985424909,\n",
       "        0.6350332489832252, 0.724097387727218],\n",
       "       [0.04485759732156969, 0.9062406260561398, 0.08045715801381137,\n",
       "        0.3754892259325958, 0.9686672422477381]],\n",
       "      shape=(334, 5), dtype=object)"
      ]
     },
     "execution_count": 37,
     "metadata": {},
     "output_type": "execute_result"
    }
   ],
   "source": [
    "newdf.to_numpy()"
   ]
  },
  {
   "cell_type": "code",
   "execution_count": 40,
   "id": "312173e8-8eed-4ff6-8963-97c565721e35",
   "metadata": {},
   "outputs": [
    {
     "data": {
      "text/plain": [
       "0     object\n",
       "1    float64\n",
       "2    float64\n",
       "3    float64\n",
       "4    float64\n",
       "dtype: object"
      ]
     },
     "execution_count": 40,
     "metadata": {},
     "output_type": "execute_result"
    }
   ],
   "source": [
    "newdf[0][0] = 0.3\n",
    "newdf.dtypes"
   ]
  },
  {
   "cell_type": "code",
   "execution_count": 41,
   "id": "e311d1d2-ca7b-4e81-bd5e-bd83f30700cc",
   "metadata": {},
   "outputs": [
    {
     "data": {
      "text/html": [
       "<div>\n",
       "<style scoped>\n",
       "    .dataframe tbody tr th:only-of-type {\n",
       "        vertical-align: middle;\n",
       "    }\n",
       "\n",
       "    .dataframe tbody tr th {\n",
       "        vertical-align: top;\n",
       "    }\n",
       "\n",
       "    .dataframe thead th {\n",
       "        text-align: right;\n",
       "    }\n",
       "</style>\n",
       "<table border=\"1\" class=\"dataframe\">\n",
       "  <thead>\n",
       "    <tr style=\"text-align: right;\">\n",
       "      <th></th>\n",
       "      <th>0</th>\n",
       "      <th>1</th>\n",
       "      <th>2</th>\n",
       "      <th>3</th>\n",
       "      <th>4</th>\n",
       "    </tr>\n",
       "  </thead>\n",
       "  <tbody>\n",
       "    <tr>\n",
       "      <th>0</th>\n",
       "      <td>0.3</td>\n",
       "      <td>0.241953</td>\n",
       "      <td>0.403667</td>\n",
       "      <td>0.936204</td>\n",
       "      <td>0.485370</td>\n",
       "    </tr>\n",
       "    <tr>\n",
       "      <th>1</th>\n",
       "      <td>0.900845</td>\n",
       "      <td>0.600563</td>\n",
       "      <td>0.052121</td>\n",
       "      <td>0.684036</td>\n",
       "      <td>0.702272</td>\n",
       "    </tr>\n",
       "    <tr>\n",
       "      <th>2</th>\n",
       "      <td>0.561677</td>\n",
       "      <td>0.008396</td>\n",
       "      <td>0.482141</td>\n",
       "      <td>0.917929</td>\n",
       "      <td>0.913979</td>\n",
       "    </tr>\n",
       "    <tr>\n",
       "      <th>3</th>\n",
       "      <td>0.156596</td>\n",
       "      <td>0.117219</td>\n",
       "      <td>0.107884</td>\n",
       "      <td>0.917898</td>\n",
       "      <td>0.969533</td>\n",
       "    </tr>\n",
       "    <tr>\n",
       "      <th>4</th>\n",
       "      <td>0.88594</td>\n",
       "      <td>0.301492</td>\n",
       "      <td>0.285615</td>\n",
       "      <td>0.758537</td>\n",
       "      <td>0.650807</td>\n",
       "    </tr>\n",
       "  </tbody>\n",
       "</table>\n",
       "</div>"
      ],
      "text/plain": [
       "          0         1         2         3         4\n",
       "0       0.3  0.241953  0.403667  0.936204  0.485370\n",
       "1  0.900845  0.600563  0.052121  0.684036  0.702272\n",
       "2  0.561677  0.008396  0.482141  0.917929  0.913979\n",
       "3  0.156596  0.117219  0.107884  0.917898  0.969533\n",
       "4   0.88594  0.301492  0.285615  0.758537  0.650807"
      ]
     },
     "execution_count": 41,
     "metadata": {},
     "output_type": "execute_result"
    }
   ],
   "source": [
    "newdf.head()"
   ]
  },
  {
   "cell_type": "code",
   "execution_count": 42,
   "id": "9cf518ed-b25c-400b-abdb-25bb3e80dd01",
   "metadata": {},
   "outputs": [
    {
     "data": {
      "text/html": [
       "<div>\n",
       "<style scoped>\n",
       "    .dataframe tbody tr th:only-of-type {\n",
       "        vertical-align: middle;\n",
       "    }\n",
       "\n",
       "    .dataframe tbody tr th {\n",
       "        vertical-align: top;\n",
       "    }\n",
       "\n",
       "    .dataframe thead th {\n",
       "        text-align: right;\n",
       "    }\n",
       "</style>\n",
       "<table border=\"1\" class=\"dataframe\">\n",
       "  <thead>\n",
       "    <tr style=\"text-align: right;\">\n",
       "      <th></th>\n",
       "      <th>0</th>\n",
       "      <th>1</th>\n",
       "      <th>2</th>\n",
       "      <th>3</th>\n",
       "      <th>4</th>\n",
       "      <th>5</th>\n",
       "      <th>6</th>\n",
       "      <th>7</th>\n",
       "      <th>8</th>\n",
       "      <th>9</th>\n",
       "      <th>...</th>\n",
       "      <th>324</th>\n",
       "      <th>325</th>\n",
       "      <th>326</th>\n",
       "      <th>327</th>\n",
       "      <th>328</th>\n",
       "      <th>329</th>\n",
       "      <th>330</th>\n",
       "      <th>331</th>\n",
       "      <th>332</th>\n",
       "      <th>333</th>\n",
       "    </tr>\n",
       "  </thead>\n",
       "  <tbody>\n",
       "    <tr>\n",
       "      <th>0</th>\n",
       "      <td>0.3</td>\n",
       "      <td>0.900845</td>\n",
       "      <td>0.561677</td>\n",
       "      <td>0.156596</td>\n",
       "      <td>0.88594</td>\n",
       "      <td>0.597218</td>\n",
       "      <td>0.273773</td>\n",
       "      <td>0.612576</td>\n",
       "      <td>0.20181</td>\n",
       "      <td>0.695985</td>\n",
       "      <td>...</td>\n",
       "      <td>0.725517</td>\n",
       "      <td>0.057749</td>\n",
       "      <td>0.888013</td>\n",
       "      <td>0.885475</td>\n",
       "      <td>0.288398</td>\n",
       "      <td>0.466023</td>\n",
       "      <td>0.195024</td>\n",
       "      <td>0.91101</td>\n",
       "      <td>0.558302</td>\n",
       "      <td>0.044858</td>\n",
       "    </tr>\n",
       "    <tr>\n",
       "      <th>1</th>\n",
       "      <td>0.241953</td>\n",
       "      <td>0.600563</td>\n",
       "      <td>0.008396</td>\n",
       "      <td>0.117219</td>\n",
       "      <td>0.301492</td>\n",
       "      <td>0.410466</td>\n",
       "      <td>0.18898</td>\n",
       "      <td>0.532259</td>\n",
       "      <td>0.047874</td>\n",
       "      <td>0.263824</td>\n",
       "      <td>...</td>\n",
       "      <td>0.925593</td>\n",
       "      <td>0.579895</td>\n",
       "      <td>0.205214</td>\n",
       "      <td>0.297572</td>\n",
       "      <td>0.352526</td>\n",
       "      <td>0.80203</td>\n",
       "      <td>0.558267</td>\n",
       "      <td>0.453824</td>\n",
       "      <td>0.698845</td>\n",
       "      <td>0.906241</td>\n",
       "    </tr>\n",
       "    <tr>\n",
       "      <th>2</th>\n",
       "      <td>0.403667</td>\n",
       "      <td>0.052121</td>\n",
       "      <td>0.482141</td>\n",
       "      <td>0.107884</td>\n",
       "      <td>0.285615</td>\n",
       "      <td>0.257537</td>\n",
       "      <td>0.739619</td>\n",
       "      <td>0.818054</td>\n",
       "      <td>0.42028</td>\n",
       "      <td>0.268031</td>\n",
       "      <td>...</td>\n",
       "      <td>0.711085</td>\n",
       "      <td>0.33739</td>\n",
       "      <td>0.757631</td>\n",
       "      <td>0.163243</td>\n",
       "      <td>0.577596</td>\n",
       "      <td>0.598902</td>\n",
       "      <td>0.610379</td>\n",
       "      <td>0.40207</td>\n",
       "      <td>0.224368</td>\n",
       "      <td>0.080457</td>\n",
       "    </tr>\n",
       "    <tr>\n",
       "      <th>3</th>\n",
       "      <td>0.936204</td>\n",
       "      <td>0.684036</td>\n",
       "      <td>0.917929</td>\n",
       "      <td>0.917898</td>\n",
       "      <td>0.758537</td>\n",
       "      <td>0.886886</td>\n",
       "      <td>0.832432</td>\n",
       "      <td>0.192438</td>\n",
       "      <td>0.565714</td>\n",
       "      <td>0.036308</td>\n",
       "      <td>...</td>\n",
       "      <td>0.061833</td>\n",
       "      <td>0.872461</td>\n",
       "      <td>0.293024</td>\n",
       "      <td>0.54216</td>\n",
       "      <td>0.355314</td>\n",
       "      <td>0.325702</td>\n",
       "      <td>0.475363</td>\n",
       "      <td>0.260496</td>\n",
       "      <td>0.635033</td>\n",
       "      <td>0.375489</td>\n",
       "    </tr>\n",
       "    <tr>\n",
       "      <th>4</th>\n",
       "      <td>0.48537</td>\n",
       "      <td>0.702272</td>\n",
       "      <td>0.913979</td>\n",
       "      <td>0.969533</td>\n",
       "      <td>0.650807</td>\n",
       "      <td>0.975466</td>\n",
       "      <td>0.317365</td>\n",
       "      <td>0.829121</td>\n",
       "      <td>0.69598</td>\n",
       "      <td>0.701471</td>\n",
       "      <td>...</td>\n",
       "      <td>0.677822</td>\n",
       "      <td>0.873134</td>\n",
       "      <td>0.065242</td>\n",
       "      <td>0.615914</td>\n",
       "      <td>0.780401</td>\n",
       "      <td>0.428217</td>\n",
       "      <td>0.363586</td>\n",
       "      <td>0.464565</td>\n",
       "      <td>0.724097</td>\n",
       "      <td>0.968667</td>\n",
       "    </tr>\n",
       "  </tbody>\n",
       "</table>\n",
       "<p>5 rows × 334 columns</p>\n",
       "</div>"
      ],
      "text/plain": [
       "        0         1         2         3         4         5         6    \\\n",
       "0       0.3  0.900845  0.561677  0.156596   0.88594  0.597218  0.273773   \n",
       "1  0.241953  0.600563  0.008396  0.117219  0.301492  0.410466   0.18898   \n",
       "2  0.403667  0.052121  0.482141  0.107884  0.285615  0.257537  0.739619   \n",
       "3  0.936204  0.684036  0.917929  0.917898  0.758537  0.886886  0.832432   \n",
       "4   0.48537  0.702272  0.913979  0.969533  0.650807  0.975466  0.317365   \n",
       "\n",
       "        7         8         9    ...       324       325       326       327  \\\n",
       "0  0.612576   0.20181  0.695985  ...  0.725517  0.057749  0.888013  0.885475   \n",
       "1  0.532259  0.047874  0.263824  ...  0.925593  0.579895  0.205214  0.297572   \n",
       "2  0.818054   0.42028  0.268031  ...  0.711085   0.33739  0.757631  0.163243   \n",
       "3  0.192438  0.565714  0.036308  ...  0.061833  0.872461  0.293024   0.54216   \n",
       "4  0.829121   0.69598  0.701471  ...  0.677822  0.873134  0.065242  0.615914   \n",
       "\n",
       "        328       329       330       331       332       333  \n",
       "0  0.288398  0.466023  0.195024   0.91101  0.558302  0.044858  \n",
       "1  0.352526   0.80203  0.558267  0.453824  0.698845  0.906241  \n",
       "2  0.577596  0.598902  0.610379   0.40207  0.224368  0.080457  \n",
       "3  0.355314  0.325702  0.475363  0.260496  0.635033  0.375489  \n",
       "4  0.780401  0.428217  0.363586  0.464565  0.724097  0.968667  \n",
       "\n",
       "[5 rows x 334 columns]"
      ]
     },
     "execution_count": 42,
     "metadata": {},
     "output_type": "execute_result"
    }
   ],
   "source": [
    "newdf.T"
   ]
  },
  {
   "cell_type": "code",
   "execution_count": 44,
   "id": "aef3c88b-b562-4825-a7c5-fc6f0c59127a",
   "metadata": {},
   "outputs": [
    {
     "data": {
      "text/html": [
       "<div>\n",
       "<style scoped>\n",
       "    .dataframe tbody tr th:only-of-type {\n",
       "        vertical-align: middle;\n",
       "    }\n",
       "\n",
       "    .dataframe tbody tr th {\n",
       "        vertical-align: top;\n",
       "    }\n",
       "\n",
       "    .dataframe thead th {\n",
       "        text-align: right;\n",
       "    }\n",
       "</style>\n",
       "<table border=\"1\" class=\"dataframe\">\n",
       "  <thead>\n",
       "    <tr style=\"text-align: right;\">\n",
       "      <th></th>\n",
       "      <th>4</th>\n",
       "      <th>3</th>\n",
       "      <th>2</th>\n",
       "      <th>1</th>\n",
       "      <th>0</th>\n",
       "    </tr>\n",
       "  </thead>\n",
       "  <tbody>\n",
       "    <tr>\n",
       "      <th>0</th>\n",
       "      <td>0.485370</td>\n",
       "      <td>0.936204</td>\n",
       "      <td>0.403667</td>\n",
       "      <td>0.241953</td>\n",
       "      <td>0.3</td>\n",
       "    </tr>\n",
       "    <tr>\n",
       "      <th>1</th>\n",
       "      <td>0.702272</td>\n",
       "      <td>0.684036</td>\n",
       "      <td>0.052121</td>\n",
       "      <td>0.600563</td>\n",
       "      <td>0.900845</td>\n",
       "    </tr>\n",
       "    <tr>\n",
       "      <th>2</th>\n",
       "      <td>0.913979</td>\n",
       "      <td>0.917929</td>\n",
       "      <td>0.482141</td>\n",
       "      <td>0.008396</td>\n",
       "      <td>0.561677</td>\n",
       "    </tr>\n",
       "    <tr>\n",
       "      <th>3</th>\n",
       "      <td>0.969533</td>\n",
       "      <td>0.917898</td>\n",
       "      <td>0.107884</td>\n",
       "      <td>0.117219</td>\n",
       "      <td>0.156596</td>\n",
       "    </tr>\n",
       "    <tr>\n",
       "      <th>4</th>\n",
       "      <td>0.650807</td>\n",
       "      <td>0.758537</td>\n",
       "      <td>0.285615</td>\n",
       "      <td>0.301492</td>\n",
       "      <td>0.88594</td>\n",
       "    </tr>\n",
       "    <tr>\n",
       "      <th>...</th>\n",
       "      <td>...</td>\n",
       "      <td>...</td>\n",
       "      <td>...</td>\n",
       "      <td>...</td>\n",
       "      <td>...</td>\n",
       "    </tr>\n",
       "    <tr>\n",
       "      <th>329</th>\n",
       "      <td>0.428217</td>\n",
       "      <td>0.325702</td>\n",
       "      <td>0.598902</td>\n",
       "      <td>0.802030</td>\n",
       "      <td>0.466023</td>\n",
       "    </tr>\n",
       "    <tr>\n",
       "      <th>330</th>\n",
       "      <td>0.363586</td>\n",
       "      <td>0.475363</td>\n",
       "      <td>0.610379</td>\n",
       "      <td>0.558267</td>\n",
       "      <td>0.195024</td>\n",
       "    </tr>\n",
       "    <tr>\n",
       "      <th>331</th>\n",
       "      <td>0.464565</td>\n",
       "      <td>0.260496</td>\n",
       "      <td>0.402070</td>\n",
       "      <td>0.453824</td>\n",
       "      <td>0.91101</td>\n",
       "    </tr>\n",
       "    <tr>\n",
       "      <th>332</th>\n",
       "      <td>0.724097</td>\n",
       "      <td>0.635033</td>\n",
       "      <td>0.224368</td>\n",
       "      <td>0.698845</td>\n",
       "      <td>0.558302</td>\n",
       "    </tr>\n",
       "    <tr>\n",
       "      <th>333</th>\n",
       "      <td>0.968667</td>\n",
       "      <td>0.375489</td>\n",
       "      <td>0.080457</td>\n",
       "      <td>0.906241</td>\n",
       "      <td>0.044858</td>\n",
       "    </tr>\n",
       "  </tbody>\n",
       "</table>\n",
       "<p>334 rows × 5 columns</p>\n",
       "</div>"
      ],
      "text/plain": [
       "            4         3         2         1         0\n",
       "0    0.485370  0.936204  0.403667  0.241953       0.3\n",
       "1    0.702272  0.684036  0.052121  0.600563  0.900845\n",
       "2    0.913979  0.917929  0.482141  0.008396  0.561677\n",
       "3    0.969533  0.917898  0.107884  0.117219  0.156596\n",
       "4    0.650807  0.758537  0.285615  0.301492   0.88594\n",
       "..        ...       ...       ...       ...       ...\n",
       "329  0.428217  0.325702  0.598902  0.802030  0.466023\n",
       "330  0.363586  0.475363  0.610379  0.558267  0.195024\n",
       "331  0.464565  0.260496  0.402070  0.453824   0.91101\n",
       "332  0.724097  0.635033  0.224368  0.698845  0.558302\n",
       "333  0.968667  0.375489  0.080457  0.906241  0.044858\n",
       "\n",
       "[334 rows x 5 columns]"
      ]
     },
     "execution_count": 44,
     "metadata": {},
     "output_type": "execute_result"
    }
   ],
   "source": [
    "# axis=0 : row\n",
    "# axis=1 : column\n",
    "\n",
    "newdf.sort_index(axis=1, ascending=False) "
   ]
  },
  {
   "cell_type": "code",
   "execution_count": 46,
   "id": "9e968a98-b3be-4e9f-9d4e-8720511a8ffa",
   "metadata": {},
   "outputs": [
    {
     "data": {
      "text/plain": [
       "pandas.core.series.Series"
      ]
     },
     "execution_count": 46,
     "metadata": {},
     "output_type": "execute_result"
    }
   ],
   "source": [
    "type(newdf[0])"
   ]
  },
  {
   "cell_type": "code",
   "execution_count": 47,
   "id": "29a46c45-dc3c-4266-abf1-ed17354328db",
   "metadata": {},
   "outputs": [],
   "source": [
    "#this is view of newdf, so if i make changes in one then another one will change automaticallly\n",
    "newdf2 = newdf"
   ]
  },
  {
   "cell_type": "code",
   "execution_count": 48,
   "id": "a75eeaf8-c107-4ad5-b2ac-8c58f58d368a",
   "metadata": {},
   "outputs": [],
   "source": [
    "newdf2[0][0]=9876"
   ]
  },
  {
   "cell_type": "code",
   "execution_count": 49,
   "id": "382fb4fb-67a7-4289-8ff9-603ce2ec1928",
   "metadata": {},
   "outputs": [
    {
     "data": {
      "text/html": [
       "<div>\n",
       "<style scoped>\n",
       "    .dataframe tbody tr th:only-of-type {\n",
       "        vertical-align: middle;\n",
       "    }\n",
       "\n",
       "    .dataframe tbody tr th {\n",
       "        vertical-align: top;\n",
       "    }\n",
       "\n",
       "    .dataframe thead th {\n",
       "        text-align: right;\n",
       "    }\n",
       "</style>\n",
       "<table border=\"1\" class=\"dataframe\">\n",
       "  <thead>\n",
       "    <tr style=\"text-align: right;\">\n",
       "      <th></th>\n",
       "      <th>0</th>\n",
       "      <th>1</th>\n",
       "      <th>2</th>\n",
       "      <th>3</th>\n",
       "      <th>4</th>\n",
       "    </tr>\n",
       "  </thead>\n",
       "  <tbody>\n",
       "    <tr>\n",
       "      <th>0</th>\n",
       "      <td>9876</td>\n",
       "      <td>0.241953</td>\n",
       "      <td>0.403667</td>\n",
       "      <td>0.936204</td>\n",
       "      <td>0.485370</td>\n",
       "    </tr>\n",
       "    <tr>\n",
       "      <th>1</th>\n",
       "      <td>0.900845</td>\n",
       "      <td>0.600563</td>\n",
       "      <td>0.052121</td>\n",
       "      <td>0.684036</td>\n",
       "      <td>0.702272</td>\n",
       "    </tr>\n",
       "    <tr>\n",
       "      <th>2</th>\n",
       "      <td>0.561677</td>\n",
       "      <td>0.008396</td>\n",
       "      <td>0.482141</td>\n",
       "      <td>0.917929</td>\n",
       "      <td>0.913979</td>\n",
       "    </tr>\n",
       "    <tr>\n",
       "      <th>3</th>\n",
       "      <td>0.156596</td>\n",
       "      <td>0.117219</td>\n",
       "      <td>0.107884</td>\n",
       "      <td>0.917898</td>\n",
       "      <td>0.969533</td>\n",
       "    </tr>\n",
       "    <tr>\n",
       "      <th>4</th>\n",
       "      <td>0.88594</td>\n",
       "      <td>0.301492</td>\n",
       "      <td>0.285615</td>\n",
       "      <td>0.758537</td>\n",
       "      <td>0.650807</td>\n",
       "    </tr>\n",
       "    <tr>\n",
       "      <th>...</th>\n",
       "      <td>...</td>\n",
       "      <td>...</td>\n",
       "      <td>...</td>\n",
       "      <td>...</td>\n",
       "      <td>...</td>\n",
       "    </tr>\n",
       "    <tr>\n",
       "      <th>329</th>\n",
       "      <td>0.466023</td>\n",
       "      <td>0.802030</td>\n",
       "      <td>0.598902</td>\n",
       "      <td>0.325702</td>\n",
       "      <td>0.428217</td>\n",
       "    </tr>\n",
       "    <tr>\n",
       "      <th>330</th>\n",
       "      <td>0.195024</td>\n",
       "      <td>0.558267</td>\n",
       "      <td>0.610379</td>\n",
       "      <td>0.475363</td>\n",
       "      <td>0.363586</td>\n",
       "    </tr>\n",
       "    <tr>\n",
       "      <th>331</th>\n",
       "      <td>0.91101</td>\n",
       "      <td>0.453824</td>\n",
       "      <td>0.402070</td>\n",
       "      <td>0.260496</td>\n",
       "      <td>0.464565</td>\n",
       "    </tr>\n",
       "    <tr>\n",
       "      <th>332</th>\n",
       "      <td>0.558302</td>\n",
       "      <td>0.698845</td>\n",
       "      <td>0.224368</td>\n",
       "      <td>0.635033</td>\n",
       "      <td>0.724097</td>\n",
       "    </tr>\n",
       "    <tr>\n",
       "      <th>333</th>\n",
       "      <td>0.044858</td>\n",
       "      <td>0.906241</td>\n",
       "      <td>0.080457</td>\n",
       "      <td>0.375489</td>\n",
       "      <td>0.968667</td>\n",
       "    </tr>\n",
       "  </tbody>\n",
       "</table>\n",
       "<p>334 rows × 5 columns</p>\n",
       "</div>"
      ],
      "text/plain": [
       "            0         1         2         3         4\n",
       "0        9876  0.241953  0.403667  0.936204  0.485370\n",
       "1    0.900845  0.600563  0.052121  0.684036  0.702272\n",
       "2    0.561677  0.008396  0.482141  0.917929  0.913979\n",
       "3    0.156596  0.117219  0.107884  0.917898  0.969533\n",
       "4     0.88594  0.301492  0.285615  0.758537  0.650807\n",
       "..        ...       ...       ...       ...       ...\n",
       "329  0.466023  0.802030  0.598902  0.325702  0.428217\n",
       "330  0.195024  0.558267  0.610379  0.475363  0.363586\n",
       "331   0.91101  0.453824  0.402070  0.260496  0.464565\n",
       "332  0.558302  0.698845  0.224368  0.635033  0.724097\n",
       "333  0.044858  0.906241  0.080457  0.375489  0.968667\n",
       "\n",
       "[334 rows x 5 columns]"
      ]
     },
     "execution_count": 49,
     "metadata": {},
     "output_type": "execute_result"
    }
   ],
   "source": [
    "newdf"
   ]
  },
  {
   "cell_type": "code",
   "execution_count": 50,
   "id": "e1e01e33-1fd3-41b9-bfb4-4cb3029d3fd9",
   "metadata": {},
   "outputs": [],
   "source": [
    "newdf2 = newdf.copy() # this will not keep the changes one"
   ]
  },
  {
   "cell_type": "code",
   "execution_count": 51,
   "id": "76c8a9af-2876-4116-8223-cd7b8c038126",
   "metadata": {},
   "outputs": [],
   "source": [
    "#view ya copy pandas will change itself acc so to prevent that we use loc\n",
    "newdf.loc[0,0] = 654"
   ]
  },
  {
   "cell_type": "code",
   "execution_count": 52,
   "id": "64dc6fda-23ce-492e-9a57-10abfa363c11",
   "metadata": {},
   "outputs": [
    {
     "data": {
      "text/html": [
       "<div>\n",
       "<style scoped>\n",
       "    .dataframe tbody tr th:only-of-type {\n",
       "        vertical-align: middle;\n",
       "    }\n",
       "\n",
       "    .dataframe tbody tr th {\n",
       "        vertical-align: top;\n",
       "    }\n",
       "\n",
       "    .dataframe thead th {\n",
       "        text-align: right;\n",
       "    }\n",
       "</style>\n",
       "<table border=\"1\" class=\"dataframe\">\n",
       "  <thead>\n",
       "    <tr style=\"text-align: right;\">\n",
       "      <th></th>\n",
       "      <th>0</th>\n",
       "      <th>1</th>\n",
       "      <th>2</th>\n",
       "      <th>3</th>\n",
       "      <th>4</th>\n",
       "    </tr>\n",
       "  </thead>\n",
       "  <tbody>\n",
       "    <tr>\n",
       "      <th>0</th>\n",
       "      <td>654</td>\n",
       "      <td>0.241953</td>\n",
       "      <td>0.403667</td>\n",
       "      <td>0.936204</td>\n",
       "      <td>0.485370</td>\n",
       "    </tr>\n",
       "    <tr>\n",
       "      <th>1</th>\n",
       "      <td>0.900845</td>\n",
       "      <td>0.600563</td>\n",
       "      <td>0.052121</td>\n",
       "      <td>0.684036</td>\n",
       "      <td>0.702272</td>\n",
       "    </tr>\n",
       "  </tbody>\n",
       "</table>\n",
       "</div>"
      ],
      "text/plain": [
       "          0         1         2         3         4\n",
       "0       654  0.241953  0.403667  0.936204  0.485370\n",
       "1  0.900845  0.600563  0.052121  0.684036  0.702272"
      ]
     },
     "execution_count": 52,
     "metadata": {},
     "output_type": "execute_result"
    }
   ],
   "source": [
    "newdf.head(2)"
   ]
  },
  {
   "cell_type": "code",
   "execution_count": 53,
   "id": "5924f1c7-d6be-4ad2-8387-0f676f0cc715",
   "metadata": {},
   "outputs": [],
   "source": [
    "newdf.columns = list(\"ABCDE\")"
   ]
  },
  {
   "cell_type": "code",
   "execution_count": 55,
   "id": "bcc19015-af09-434d-a53a-baf8e5da00d3",
   "metadata": {},
   "outputs": [
    {
     "data": {
      "text/html": [
       "<div>\n",
       "<style scoped>\n",
       "    .dataframe tbody tr th:only-of-type {\n",
       "        vertical-align: middle;\n",
       "    }\n",
       "\n",
       "    .dataframe tbody tr th {\n",
       "        vertical-align: top;\n",
       "    }\n",
       "\n",
       "    .dataframe thead th {\n",
       "        text-align: right;\n",
       "    }\n",
       "</style>\n",
       "<table border=\"1\" class=\"dataframe\">\n",
       "  <thead>\n",
       "    <tr style=\"text-align: right;\">\n",
       "      <th></th>\n",
       "      <th>A</th>\n",
       "      <th>B</th>\n",
       "      <th>C</th>\n",
       "      <th>D</th>\n",
       "      <th>E</th>\n",
       "    </tr>\n",
       "  </thead>\n",
       "  <tbody>\n",
       "    <tr>\n",
       "      <th>0</th>\n",
       "      <td>654</td>\n",
       "      <td>0.241953</td>\n",
       "      <td>0.403667</td>\n",
       "      <td>0.936204</td>\n",
       "      <td>0.485370</td>\n",
       "    </tr>\n",
       "    <tr>\n",
       "      <th>1</th>\n",
       "      <td>0.900845</td>\n",
       "      <td>0.600563</td>\n",
       "      <td>0.052121</td>\n",
       "      <td>0.684036</td>\n",
       "      <td>0.702272</td>\n",
       "    </tr>\n",
       "  </tbody>\n",
       "</table>\n",
       "</div>"
      ],
      "text/plain": [
       "          A         B         C         D         E\n",
       "0       654  0.241953  0.403667  0.936204  0.485370\n",
       "1  0.900845  0.600563  0.052121  0.684036  0.702272"
      ]
     },
     "execution_count": 55,
     "metadata": {},
     "output_type": "execute_result"
    }
   ],
   "source": [
    "newdf.head(2)"
   ]
  },
  {
   "cell_type": "code",
   "execution_count": null,
   "id": "14d1005a-5638-4460-8af0-0b6a9ff21c38",
   "metadata": {},
   "outputs": [],
   "source": []
  }
 ],
 "metadata": {
  "kernelspec": {
   "display_name": "Python 3 (ipykernel)",
   "language": "python",
   "name": "python3"
  },
  "language_info": {
   "codemirror_mode": {
    "name": "ipython",
    "version": 3
   },
   "file_extension": ".py",
   "mimetype": "text/x-python",
   "name": "python",
   "nbconvert_exporter": "python",
   "pygments_lexer": "ipython3",
   "version": "3.13.3"
  }
 },
 "nbformat": 4,
 "nbformat_minor": 5
}
